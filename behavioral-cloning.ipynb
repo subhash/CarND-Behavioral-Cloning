{
 "cells": [
  {
   "cell_type": "code",
   "execution_count": 20,
   "metadata": {
    "collapsed": false
   },
   "outputs": [
    {
     "name": "stdout",
     "output_type": "stream",
     "text": [
      "(8036, 160, 320)\n",
      "[[ 0.56862745  0.57647059  0.6        ...,  0.25882353  0.38431373\n",
      "   0.3372549 ]\n",
      " [ 0.63921569  0.59215686  0.26666667 ...,  0.67058824  0.22352941\n",
      "   0.70588235]\n",
      " [ 0.54117647  0.58431373  0.43137255 ...,  0.69019608  0.33333333\n",
      "   0.66666667]\n",
      " ..., \n",
      " [ 0.54901961  0.50980392  0.47058824 ...,  0.54509804  0.56078431\n",
      "   0.57254902]\n",
      " [ 0.5372549   0.49803922  0.45882353 ...,  0.56078431  0.53333333\n",
      "   0.50588235]\n",
      " [ 0.45490196  0.42745098  0.4        ...,  0.51372549  0.56078431\n",
      "   0.61176471]]\n"
     ]
    }
   ],
   "source": [
    "import os\n",
    "import cv2\n",
    "import pandas\n",
    "import numpy as np\n",
    "import matplotlib.pyplot as plt\n",
    "\n",
    "def extract_image(f):\n",
    "    im = cv2.imread(f)\n",
    "    im = cv2.cvtColor(im, cv2.COLOR_BGR2YUV)\n",
    "    im = im[:,:,0]\n",
    "    mn, mx = np.min(im), np.max(im)\n",
    "    a, b = 0., 1.\n",
    "    im = a + ((im-mn)/(mx-mn))*(b-a)\n",
    "    return im\n",
    "\n",
    "def process_db(dir):\n",
    "    with open(os.path.join(dir, 'driving_log.csv'), 'r') as f:\n",
    "        data = pandas.read_csv(f, header=0)\n",
    "        res = np.asarray(data.values)\n",
    "        c, l, r, st, t, b, sp = np.split(res, 7, axis=1)\n",
    "        c = np.array([extract_image(os.path.join(dir, p)) for p in c.squeeze()])\n",
    "        return c, st.squeeze()\n",
    "        \n",
    "c, st = process_db('../data')\n",
    "print(c.shape)\n",
    "%matplotlib inline\n",
    "#plt.imshow(c[20], cmap='gray')\n",
    "        "
   ]
  },
  {
   "cell_type": "code",
   "execution_count": 22,
   "metadata": {
    "collapsed": false
   },
   "outputs": [
    {
     "name": "stdout",
     "output_type": "stream",
     "text": [
      "(8036, 160, 320, 1)\n"
     ]
    }
   ],
   "source": [
    "from sklearn.utils import shuffle\n",
    "from sklearn.model_selection import train_test_split\n",
    "\n",
    "c, st = shuffle(c, st)\n",
    "st = st.astype(np.float32)\n",
    "c = np.reshape(c, [-1, 160, 320, 1])\n",
    "print(c.shape)\n",
    "\n",
    "\n",
    "X_train, y_train = c[:200], st[:200]\n",
    "\n"
   ]
  },
  {
   "cell_type": "code",
   "execution_count": null,
   "metadata": {
    "collapsed": true
   },
   "outputs": [],
   "source": [
    "plt.bar(y_train, X_train)"
   ]
  },
  {
   "cell_type": "code",
   "execution_count": null,
   "metadata": {
    "collapsed": false
   },
   "outputs": [
    {
     "name": "stdout",
     "output_type": "stream",
     "text": [
      "Train on 160 samples, validate on 40 samples\n",
      "Epoch 1/30\n",
      "160/160 [==============================] - 331s - loss: 3374.9421 - mean_squared_error: 3374.9421 - val_loss: 35.6115 - val_mean_squared_error: 35.6115\b\b\b\b\b\b\b\b\b\b\b\b\b\b\b\b\b\b\b\b\b\b\b\b\b\b\b\b\b\b\b\b\b\b\b\b\b\b\b\n",
      "Epoch 2/30\n",
      "160/160 [==============================] - 326s - loss: 28.4095 - mean_squared_error: 28.4095 - val_loss: 0.5004 - val_mean_squared_error: 0.5004\b\b\b\b\b\b\b\b\b\b\b\b\b\b\b\b\b\b\b\b\b\b\b\b\b\b\b\b\b\b\b\b\b\b\b\b\b\b\b\b\b\b\b\b\b\b\b\b\b\n",
      "Epoch 3/30\n",
      "160/160 [==============================] - 322s - loss: 0.4179 - mean_squared_error: 0.4179 - val_loss: 0.0473 - val_mean_squared_error: 0.0473\b\b\b\b\b\b\b\b\b\b\b\b\b\b\b\b\b\b\b\b\b\b\b\b\b\b\b\b\b\b\b\b\b\b\b\b\b\b\b\b\b\b\b\b\b\b\b\n",
      "Epoch 4/30\n",
      "160/160 [==============================] - 318s - loss: 0.0501 - mean_squared_error: 0.0501 - val_loss: 0.0061 - val_mean_squared_error: 0.0061\b\b\b\b\b\b\b\b\b\b\b\b\b\b\b\b\b\b\b\b\b\b\b\b\b\b\b\b\b\b\b\b\b\b\b\b\b\b\b\b\b\b\b\b\b\b\b\n",
      "Epoch 5/30\n",
      "160/160 [==============================] - 320s - loss: 0.0223 - mean_squared_error: 0.0223 - val_loss: 0.0073 - val_mean_squared_error: 0.0073\b\b\b\b\b\b\b\b\b\b\b\b\b\b\b\b\b\b\b\b\b\b\b\b\b\b\b\b\b\b\b\b\b\b\b\b\b\b\b\b\b\b\b\b\b\b\b\n",
      "Epoch 6/30\n",
      "160/160 [==============================] - 327s - loss: 0.0221 - mean_squared_error: 0.0221 - val_loss: 0.0069 - val_mean_squared_error: 0.0069\b\b\b\b\b\b\b\b\b\b\b\b\b\b\b\b\b\b\b\b\b\b\b\b\b\b\b\b\b\b\b\b\b\b\b\b\b\b\b\b\b\b\b\b\b\b\b\n",
      "Epoch 7/30\n",
      "160/160 [==============================] - 322s - loss: 0.0215 - mean_squared_error: 0.0215 - val_loss: 0.0064 - val_mean_squared_error: 0.0064\b\b\b\b\b\b\b\b\b\b\b\b\b\b\b\b\b\b\b\b\b\b\b\b\b\b\b\b\b\b\b\b\b\b\b\b\b\b\b\b\b\b\b\b\b\b\b\n",
      "Epoch 8/30\n",
      "160/160 [==============================] - 326s - loss: 0.0208 - mean_squared_error: 0.0208 - val_loss: 0.0061 - val_mean_squared_error: 0.0061\b\b\b\b\b\b\b\b\b\b\b\b\b\b\b\b\b\b\b\b\b\b\b\b\b\b\b\b\b\b\b\b\b\b\b\b\b\b\b\b\b\b\b\b\b\b\b\n",
      "Epoch 9/30\n",
      "160/160 [==============================] - 326s - loss: 0.0200 - mean_squared_error: 0.0200 - val_loss: 0.0079 - val_mean_squared_error: 0.0079\b\b\b\b\b\b\b\b\b\b\b\b\b\b\b\b\b\b\b\b\b\b\b\b\b\b\b\b\b\b\b\b\b\b\b\b\b\b\b\b\b\b\b\b\b\b\b\n",
      "Epoch 10/30\n",
      "160/160 [==============================] - 328s - loss: 0.0220 - mean_squared_error: 0.0220 - val_loss: 0.0059 - val_mean_squared_error: 0.0059\b\b\b\b\b\b\b\b\b\b\b\b\b\b\b\b\b\b\b\b\b\b\b\b\b\b\b\b\b\b\b\b\b\b\b\b\b\b\b\b\b\b\b\b\b\b\b\n",
      "Epoch 11/30\n",
      "160/160 [==============================] - 330s - loss: 0.0188 - mean_squared_error: 0.0188 - val_loss: 0.0087 - val_mean_squared_error: 0.0087\b\b\b\b\b\b\b\b\b\b\b\b\b\b\b\b\b\b\b\b\b\b\b\b\b\b\b\b\b\b\b\b\b\b\b\b\b\b\b\b\b\b\b\b\b\b\b\n",
      "Epoch 12/30\n",
      "160/160 [==============================] - 352s - loss: 0.0193 - mean_squared_error: 0.0193 - val_loss: 0.0148 - val_mean_squared_error: 0.0148\b\b\b\b\b\b\b\b\b\b\b\b\b\b\b\b\b\b\b\b\b\b\b\b\b\b\b\b\b\b\b\b\b\b\b\b\b\b\b\b\b\b\b\b\b\b\b\n",
      "Epoch 13/30\n",
      "160/160 [==============================] - 369s - loss: 0.0230 - mean_squared_error: 0.0230 - val_loss: 0.0155 - val_mean_squared_error: 0.0155\b\b\b\b\b\b\b\b\b\b\b\b\b\b\b\b\b\b\b\b\b\b\b\b\b\b\b\b\b\b\b\b\b\b\b\b\b\b\b\b\b\b\b\b\b\b\b\n",
      "Epoch 14/30\n"
     ]
    }
   ],
   "source": [
    "from keras.models import Sequential\n",
    "from keras.layers.core import Dense, Activation, Flatten, Dropout\n",
    "from keras.layers.convolutional import Convolution2D\n",
    "from keras.wrappers.scikit_learn import KerasRegressor\n",
    "\n",
    "from keras.layers.pooling import MaxPooling2D\n",
    "import numpy as np\n",
    "from random import random\n",
    "\n",
    "def my_model():\n",
    "    model = Sequential()\n",
    "    model.add(Convolution2D(128, 5, 5, border_mode='same', activation='relu', name='c1', input_shape=(160, 320, 1)))\n",
    "    model.add(MaxPooling2D((2,2)))\n",
    "    model.add(Convolution2D(256, 5, 5, border_mode='same', activation='relu', name='c2'))\n",
    "    model.add(MaxPooling2D((2,2)))\n",
    "    model.add(Convolution2D(512, 5, 5, border_mode='same', activation='relu', name='c3'))\n",
    "    model.add(MaxPooling2D((2,2)))\n",
    "\n",
    "    model.add(Flatten())\n",
    "    model.add(Dense(256, name='d1',activation='relu'))\n",
    "    model.add(Dense(128, name='d2',activation='linear'))\n",
    "    model.add(Dense(64, name='d3',activation='relu'))\n",
    "    model.add(Dense(1, name='d4', activation='linear'))\n",
    "    \n",
    "    return model\n",
    "\n",
    "\n",
    "model = my_model()\n",
    "model.compile('adam', 'mse', ['mse'])\n",
    "history = model.fit(X_train, y_train, batch_size=128, nb_epoch=30, verbose=1, validation_split=0.2)\n",
    "y_pred = model.predict(X_train)\n",
    "print(y_pred)\n",
    "\n",
    "\n"
   ]
  },
  {
   "cell_type": "code",
   "execution_count": null,
   "metadata": {
    "collapsed": true
   },
   "outputs": [],
   "source": []
  }
 ],
 "metadata": {
  "kernelspec": {
   "display_name": "Python 3",
   "language": "python",
   "name": "python3"
  },
  "language_info": {
   "codemirror_mode": {
    "name": "ipython",
    "version": 3
   },
   "file_extension": ".py",
   "mimetype": "text/x-python",
   "name": "python",
   "nbconvert_exporter": "python",
   "pygments_lexer": "ipython3",
   "version": "3.5.2"
  },
  "widgets": {
   "state": {},
   "version": "1.1.2"
  }
 },
 "nbformat": 4,
 "nbformat_minor": 2
}
