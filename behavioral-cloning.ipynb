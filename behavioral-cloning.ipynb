{
 "cells": [
  {
   "cell_type": "code",
   "execution_count": 1,
   "metadata": {
    "collapsed": false
   },
   "outputs": [
    {
     "name": "stdout",
     "output_type": "stream",
     "text": [
      "(8036, 160, 320)\n"
     ]
    }
   ],
   "source": [
    "import os\n",
    "import cv2\n",
    "import pandas\n",
    "import numpy as np\n",
    "import matplotlib.pyplot as plt\n",
    "\n",
    "def extract_image(f):\n",
    "    im = cv2.imread(f)\n",
    "    im = cv2.cvtColor(im, cv2.COLOR_BGR2YUV)\n",
    "    im = im[:,:,0]\n",
    "    mn, mx = np.min(im), np.max(im)\n",
    "    a, b = 0., 1.\n",
    "    im = a + ((im-mn)/(mx-mn))*(b-a)\n",
    "    return im\n",
    "\n",
    "def process_db(dir):\n",
    "    with open(os.path.join(dir, 'driving_log.csv'), 'r') as f:\n",
    "        data = pandas.read_csv(f, header=0)\n",
    "        res = np.asarray(data.values)\n",
    "        c, l, r, st, t, b, sp = np.split(res, 7, axis=1)\n",
    "        c = np.array([extract_image(os.path.join(dir, p)) for p in c.squeeze()])\n",
    "        return c, st.squeeze()\n",
    "        \n",
    "c, st = process_db('./data')\n",
    "print(c.shape)\n",
    "%matplotlib inline\n",
    "#plt.imshow(c[20], cmap='gray')\n",
    "        "
   ]
  },
  {
   "cell_type": "code",
   "execution_count": 32,
   "metadata": {
    "collapsed": false
   },
   "outputs": [
    {
     "name": "stdout",
     "output_type": "stream",
     "text": [
      "(8036, 160, 320, 1)\n",
      "(8036, 160, 320, 1) (8036,)\n"
     ]
    }
   ],
   "source": [
    "from sklearn.utils import shuffle\n",
    "from sklearn.model_selection import train_test_split\n",
    "\n",
    "c, st = shuffle(c, st)\n",
    "st = st.astype(np.float32)\n",
    "c = np.reshape(c, [-1, 160, 320, 1])\n",
    "print(c.shape)\n",
    "\n",
    "\n",
    "X_train, y_train = c, st\n",
    "print(X_train.shape, y_train.shape)\n",
    "\n"
   ]
  },
  {
   "cell_type": "code",
   "execution_count": null,
   "metadata": {
    "collapsed": false
   },
   "outputs": [],
   "source": []
  },
  {
   "cell_type": "code",
   "execution_count": 33,
   "metadata": {
    "collapsed": false
   },
   "outputs": [
    {
     "name": "stdout",
     "output_type": "stream",
     "text": [
      "Train on 6428 samples, validate on 1608 samples\n",
      "Epoch 1/30\n",
      "45s - loss: 0.0164 - mean_squared_error: 0.0164 - val_loss: 0.0105 - val_mean_squared_error: 0.0105\n",
      "Epoch 2/30\n",
      "43s - loss: 0.0100 - mean_squared_error: 0.0100 - val_loss: 0.0083 - val_mean_squared_error: 0.0083\n",
      "Epoch 3/30\n",
      "43s - loss: 0.0090 - mean_squared_error: 0.0090 - val_loss: 0.0080 - val_mean_squared_error: 0.0080\n",
      "Epoch 4/30\n",
      "43s - loss: 0.0085 - mean_squared_error: 0.0085 - val_loss: 0.0080 - val_mean_squared_error: 0.0080\n",
      "Epoch 5/30\n",
      "43s - loss: 0.0077 - mean_squared_error: 0.0077 - val_loss: 0.0085 - val_mean_squared_error: 0.0085\n",
      "Epoch 6/30\n",
      "43s - loss: 0.0072 - mean_squared_error: 0.0072 - val_loss: 0.0081 - val_mean_squared_error: 0.0081\n",
      "Epoch 7/30\n",
      "43s - loss: 0.0066 - mean_squared_error: 0.0066 - val_loss: 0.0080 - val_mean_squared_error: 0.0080\n",
      "Epoch 8/30\n",
      "43s - loss: 0.0059 - mean_squared_error: 0.0059 - val_loss: 0.0084 - val_mean_squared_error: 0.0084\n",
      "Epoch 9/30\n",
      "43s - loss: 0.0052 - mean_squared_error: 0.0052 - val_loss: 0.0089 - val_mean_squared_error: 0.0089\n",
      "Epoch 10/30\n",
      "43s - loss: 0.0045 - mean_squared_error: 0.0045 - val_loss: 0.0105 - val_mean_squared_error: 0.0105\n",
      "Epoch 11/30\n",
      "43s - loss: 0.0039 - mean_squared_error: 0.0039 - val_loss: 0.0089 - val_mean_squared_error: 0.0089\n",
      "Epoch 12/30\n",
      "43s - loss: 0.0033 - mean_squared_error: 0.0033 - val_loss: 0.0091 - val_mean_squared_error: 0.0091\n",
      "Epoch 13/30\n",
      "43s - loss: 0.0026 - mean_squared_error: 0.0026 - val_loss: 0.0087 - val_mean_squared_error: 0.0087\n",
      "Epoch 14/30\n",
      "43s - loss: 0.0024 - mean_squared_error: 0.0024 - val_loss: 0.0090 - val_mean_squared_error: 0.0090\n",
      "Epoch 15/30\n",
      "43s - loss: 0.0019 - mean_squared_error: 0.0019 - val_loss: 0.0086 - val_mean_squared_error: 0.0086\n",
      "Epoch 16/30\n",
      "43s - loss: 0.0016 - mean_squared_error: 0.0016 - val_loss: 0.0086 - val_mean_squared_error: 0.0086\n",
      "Epoch 17/30\n",
      "43s - loss: 0.0014 - mean_squared_error: 0.0014 - val_loss: 0.0091 - val_mean_squared_error: 0.0091\n",
      "Epoch 18/30\n",
      "43s - loss: 0.0013 - mean_squared_error: 0.0013 - val_loss: 0.0089 - val_mean_squared_error: 0.0089\n",
      "Epoch 19/30\n",
      "43s - loss: 0.0011 - mean_squared_error: 0.0011 - val_loss: 0.0099 - val_mean_squared_error: 0.0099\n",
      "Epoch 20/30\n",
      "43s - loss: 8.7683e-04 - mean_squared_error: 8.7683e-04 - val_loss: 0.0090 - val_mean_squared_error: 0.0090\n",
      "Epoch 21/30\n",
      "43s - loss: 7.7424e-04 - mean_squared_error: 7.7424e-04 - val_loss: 0.0090 - val_mean_squared_error: 0.0090\n",
      "Epoch 22/30\n",
      "43s - loss: 7.7042e-04 - mean_squared_error: 7.7042e-04 - val_loss: 0.0087 - val_mean_squared_error: 0.0087\n",
      "Epoch 23/30\n",
      "43s - loss: 6.6799e-04 - mean_squared_error: 6.6799e-04 - val_loss: 0.0091 - val_mean_squared_error: 0.0091\n",
      "Epoch 24/30\n",
      "43s - loss: 7.1317e-04 - mean_squared_error: 7.1317e-04 - val_loss: 0.0086 - val_mean_squared_error: 0.0086\n",
      "Epoch 25/30\n",
      "43s - loss: 7.2462e-04 - mean_squared_error: 7.2462e-04 - val_loss: 0.0086 - val_mean_squared_error: 0.0086\n",
      "Epoch 26/30\n",
      "43s - loss: 7.1494e-04 - mean_squared_error: 7.1494e-04 - val_loss: 0.0089 - val_mean_squared_error: 0.0089\n",
      "Epoch 27/30\n",
      "43s - loss: 7.8192e-04 - mean_squared_error: 7.8192e-04 - val_loss: 0.0090 - val_mean_squared_error: 0.0090\n",
      "Epoch 28/30\n",
      "43s - loss: 9.0723e-04 - mean_squared_error: 9.0723e-04 - val_loss: 0.0096 - val_mean_squared_error: 0.0096\n",
      "Epoch 29/30\n",
      "43s - loss: 7.9719e-04 - mean_squared_error: 7.9719e-04 - val_loss: 0.0085 - val_mean_squared_error: 0.0085\n",
      "Epoch 30/30\n",
      "43s - loss: 5.9657e-04 - mean_squared_error: 5.9657e-04 - val_loss: 0.0086 - val_mean_squared_error: 0.0086\n"
     ]
    }
   ],
   "source": [
    "from keras.models import Sequential\n",
    "from keras.layers.core import Dense, Activation, Flatten, Dropout\n",
    "from keras.layers.convolutional import Convolution2D\n",
    "from keras.wrappers.scikit_learn import KerasRegressor\n",
    "\n",
    "from keras.layers.pooling import MaxPooling2D\n",
    "import numpy as np\n",
    "from random import random\n",
    "\n",
    "def my_model():\n",
    "    model = Sequential()\n",
    "    model.add(Convolution2D(16, 5, 5, border_mode='same', activation='relu', name='c1', input_shape=(160, 320, 1)))\n",
    "    model.add(MaxPooling2D((2,2)))\n",
    "    model.add(Convolution2D(32, 5, 5, border_mode='same', activation='relu', name='c2'))\n",
    "    model.add(MaxPooling2D((2,2)))\n",
    "    model.add(Convolution2D(64, 5, 5, border_mode='same', activation='relu', name='c3'))\n",
    "    model.add(MaxPooling2D((2,2)))\n",
    "\n",
    "    model.add(Flatten())\n",
    "    model.add(Dense(64, name='d1',activation='relu'))\n",
    "    model.add(Dense(32, name='d2',activation='linear'))\n",
    "    model.add(Dense(16, name='d3',activation='relu'))\n",
    "    model.add(Dense(1, name='d4', activation='linear'))\n",
    "    \n",
    "    return model\n",
    "\n",
    "\n",
    "model = my_model()\n",
    "model.compile('adam', 'mse', ['mse'])\n",
    "history = model.fit(X_train, y_train, batch_size=32, nb_epoch=30, verbose=2, validation_split=0.2)\n",
    "y_pred = model.predict(X_train)\n",
    "\n"
   ]
  },
  {
   "cell_type": "code",
   "execution_count": 34,
   "metadata": {
    "collapsed": false
   },
   "outputs": [
    {
     "name": "stdout",
     "output_type": "stream",
     "text": [
      "[[ 0.         -0.00798936]\n",
      " [ 0.17658231  0.16959016]\n",
      " [-0.04076847 -0.02267045]\n",
      " ..., \n",
      " [ 0.         -0.01274112]\n",
      " [-0.04076847  0.00534799]\n",
      " [-0.09773462 -0.10673321]]\n",
      "None\n"
     ]
    }
   ],
   "source": [
    "print(np.column_stack((y_train, y_pred.squeeze())))\n",
    "print(model.save(\"model.8000.h5\"))"
   ]
  },
  {
   "cell_type": "code",
   "execution_count": null,
   "metadata": {
    "collapsed": true
   },
   "outputs": [],
   "source": []
  }
 ],
 "metadata": {
  "kernelspec": {
   "display_name": "Python 3",
   "language": "python",
   "name": "python3"
  },
  "language_info": {
   "codemirror_mode": {
    "name": "ipython",
    "version": 3
   },
   "file_extension": ".py",
   "mimetype": "text/x-python",
   "name": "python",
   "nbconvert_exporter": "python",
   "pygments_lexer": "ipython3",
   "version": "3.5.2"
  },
  "widgets": {
   "state": {},
   "version": "1.1.2"
  }
 },
 "nbformat": 4,
 "nbformat_minor": 2
}
