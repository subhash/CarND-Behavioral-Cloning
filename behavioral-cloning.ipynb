{
 "cells": [
  {
   "cell_type": "code",
   "execution_count": 1,
   "metadata": {
    "collapsed": false
   },
   "outputs": [
    {
     "name": "stdout",
     "output_type": "stream",
     "text": [
      "(8036, 160, 320, 1)\n"
     ]
    }
   ],
   "source": [
    "import os\n",
    "import cv2\n",
    "import pandas\n",
    "import numpy as np\n",
    "import matplotlib.pyplot as plt\n",
    "\n",
    "def clipped(im):\n",
    "    h, w, _ = im.shape\n",
    "    nh, nw = (h-66)//2, (w-200)//2\n",
    "    im = im[nh:nh+66, nw:nw+200, :]\n",
    "    return im\n",
    "\n",
    "def extract_image(f):\n",
    "    im = cv2.imread(f)\n",
    "    im = cv2.cvtColor(im, cv2.COLOR_BGR2YUV)\n",
    "    #im = clipped(im)\n",
    "    im = im[:,:,0:1]\n",
    "    return im\n",
    "\n",
    "def process_db(dir):\n",
    "    with open(os.path.join(dir, 'driving_log.csv'), 'r') as f:\n",
    "        data = pandas.read_csv(f, header=0, skipinitialspace=True)\n",
    "        res = np.asarray(data.values)\n",
    "        c, l, r, st, t, b, sp = np.split(res, 7, axis=1)\n",
    "        l = np.array([extract_image(os.path.join(dir, p)) for p in l.squeeze()])\n",
    "        c = np.array([extract_image(os.path.join(dir, p)) for p in c.squeeze()])\n",
    "        r = np.array([extract_image(os.path.join(dir, p)) for p in r.squeeze()])        \n",
    "        return l, c, r, st.squeeze()\n",
    "        \n",
    "l, c, r, st = process_db('../data')\n",
    "print(c.shape)"
   ]
  },
  {
   "cell_type": "code",
   "execution_count": 6,
   "metadata": {
    "collapsed": false
   },
   "outputs": [
    {
     "name": "stdout",
     "output_type": "stream",
     "text": [
      "5923 2113\n",
      "(5863, 160, 320, 1) (5863,)\n"
     ]
    },
    {
     "data": {
      "image/png": "[encoded data removed]",
      "text/plain": [
       "<matplotlib.figure.Figure at 0x11615d780>"
      ]
     },
     "metadata": {},
     "output_type": "display_data"
    },
    {
     "data": {
      "image/png": "[encoded data removed]",
      "text/plain": [
       "<matplotlib.figure.Figure at 0x11615d7b8>"
      ]
     },
     "metadata": {},
     "output_type": "display_data"
    },
    {
     "data": {
      "image/png": "[encoded data removed]",
      "text/plain": [
       "<matplotlib.figure.Figure at 0x121b7dcf8>"
      ]
     },
     "metadata": {},
     "output_type": "display_data"
    },
    {
     "data": {
      "image/png": "[encoded data removed]",
      "text/plain": [
       "<matplotlib.figure.Figure at 0x12284a320>"
      ]
     },
     "metadata": {},
     "output_type": "display_data"
    },
    {
     "data": {
      "text/plain": [
       "<matplotlib.figure.Figure at 0x116480b38>"
      ]
     },
     "metadata": {},
     "output_type": "display_data"
    }
   ],
   "source": [
    "limit = 0.10\n",
    "extreme = np.logical_or(st<-limit, st>limit)\n",
    "normal = np.logical_and(st>=-limit, st<=limit)\n",
    "\n",
    "nb_normal = 500\n",
    "nb_extreme = 1000\n",
    "\n",
    "print(len(st[normal]), len(st[extreme]))\n",
    "\n",
    "\n",
    "%matplotlib inline\n",
    "_ = plt.hist(st, 100)\n",
    "plt.figure()\n",
    "\n",
    "bal_st = np.append(st[normal][:nb_normal], st[extreme][:nb_extreme])\n",
    "bal_c = np.append(c[normal][:nb_normal], c[extreme][:nb_extreme], axis=0)\n",
    "bal_l = np.append(l[normal][:nb_normal], l[extreme][:nb_extreme], axis=0)\n",
    "bal_r = np.append(r[normal][:nb_normal], r[extreme][:nb_extreme], axis=0)\n",
    "\n",
    "_ = plt.hist(bal_st, 20)\n",
    "plt.figure()\n",
    "\n",
    "features = bal_c\n",
    "labels = bal_st\n",
    "\n",
    "features = np.append(features, bal_l, axis=0)\n",
    "features = np.append(features, bal_r, axis=0)\n",
    "labels = np.append(labels, bal_st+0.25, axis=0)\n",
    "labels = np.append(labels, bal_st-0.25, axis=0)\n",
    "\n",
    "_ = plt.hist(labels, 20)\n",
    "plt.figure()\n",
    "\n",
    "flip = np.logical_or(labels<-0.25, labels>0.25)\n",
    "features = np.append(features, np.fliplr(features[flip]), axis=0)\n",
    "labels = np.append(labels, -labels[flip])\n",
    "\n",
    "labels = np.clip(labels, -1., 1.)\n",
    "\n",
    "_ = plt.hist(labels, 10)\n",
    "plt.figure()\n",
    "\n",
    "print(features.shape, labels.shape)\n",
    "\n",
    "# _ = plt.hist(st[extreme], 100)\n",
    "# plt.figure()\n",
    "# _ = plt.hist(labels, 100)\n",
    "\n"
   ]
  },
  {
   "cell_type": "code",
   "execution_count": null,
   "metadata": {
    "collapsed": false
   },
   "outputs": [],
   "source": []
  },
  {
   "cell_type": "code",
   "execution_count": 7,
   "metadata": {
    "collapsed": false
   },
   "outputs": [
    {
     "name": "stdout",
     "output_type": "stream",
     "text": [
      "(5863, 160, 320, 1) (5863,)\n"
     ]
    }
   ],
   "source": [
    "\n",
    "labels = labels.astype(np.float32)\n",
    "features = features.astype(np.float32)\n",
    "\n",
    "mn = np.min(features, axis=(1,2,3), keepdims=True)\n",
    "mx = np.max(features, axis=(1,2,3), keepdims=True)\n",
    "rng = (mx - mn)\n",
    "features -= mn\n",
    "features = features/rng\n",
    "\n",
    "X_train, y_train = features, labels\n",
    "print(X_train.shape, y_train.shape)\n",
    "\n"
   ]
  },
  {
   "cell_type": "code",
   "execution_count": null,
   "metadata": {
    "collapsed": false
   },
   "outputs": [
    {
     "name": "stdout",
     "output_type": "stream",
     "text": [
      "Train on 4690 samples, validate on 1173 samples\n",
      "Epoch 1/10\n",
      " 128/4690 [..............................] - ETA: 803s - loss: 6948.9837 - mean_squared_error: 6948.9837  \b\b\b\b\b\b\b\b\b\b\b\b\b\b\b\b\b\b\b\b\b\b\b\b\b\b\b\b\b\b\b\b\b\b\b\b\b\b\b\b\b\b\b\b\b\b\b\b\b\b\b\b\b\b\b\b\b\b\b\b\b\b\b\b\b\b\b\b\b\b\b\b\b\b\b\b\b\b\b\b\b\b\b\b\b\b\b\b\b\b\b\b\b\b\b\b\b\b\b\b\b\b\b\b\b\b\b\b\b\b\b\b\b\b\b\b\b\b\b\b\b\b\b\b\b\b\b\b\b\b\b\b\b\b\b\b\b\b\b\b\b\b\b\b\b\b\b\b\b\b\b\b\b\b\b\b\b\b\b\b\b\b\b\b\b\b\b\b\b\b\b\b\b\b\b\b\b\b\b\b\b\b\b\b\b\b\b\b\b\b\b\b\b\b\b\b\b\b\b\b\b\b\b\b\b\b\b\b\b\b\b\b\b\b\b\b\b\b\b\b\b\b\b\b\b\b\b\b\b\b\b\b\b\b\b\b\b\b\b\b\b\b\b\b\b\b\b\b\b\b\b\b\b\b\b\b\b\b\b\b\b\b\b\b\b\b\b\b\b\b\b\b\b\b\b\b\b\b\b\b\b\b\b\b\b\b\b\b\b\b\b\b\b\b\b\b\b\b\b\b"
     ]
    }
   ],
   "source": [
    "from keras.models import Sequential\n",
    "from keras.layers.core import Dense, Activation, Flatten, Dropout\n",
    "from keras.layers.convolutional import Convolution2D\n",
    "from keras.wrappers.scikit_learn import KerasRegressor\n",
    "\n",
    "from keras.layers.pooling import MaxPooling2D\n",
    "import numpy as np\n",
    "from random import random\n",
    "\n",
    "def my_model():\n",
    "    model = Sequential()\n",
    "    model.add(Convolution2D(32, 5, 5, border_mode='same', activation='relu', name='c1', input_shape=(160, 320, 1)))\n",
    "    model.add(MaxPooling2D((2,2)))\n",
    "    model.add(Convolution2D(64, 5, 5, border_mode='same', activation='relu', name='c2'))\n",
    "    model.add(MaxPooling2D((2,2)))\n",
    "    model.add(Convolution2D(128, 5, 5, border_mode='same', activation='relu', name='c3'))\n",
    "    model.add(MaxPooling2D((2,2)))\n",
    "\n",
    "    model.add(Flatten())\n",
    "    model.add(Dense(512, name='d1'))\n",
    "    model.add(Dense(64, name='d2'))\n",
    "    model.add(Dense(16, name='d3'))\n",
    "    model.add(Dense(1, name='out'))\n",
    "    \n",
    "    return model\n",
    "\n",
    "def nvidia_model():\n",
    "    model = Sequential()\n",
    "    model.add(Convolution2D(24, 5, 5, border_mode='same', activation='relu', name='c1', subsample=(2,2), input_shape=(160, 320, 1)))\n",
    "    model.add(Dropout(0.2))\n",
    "    model.add(Convolution2D(36, 5, 5, border_mode='same', activation='relu', name='c2', subsample=(2,2)))\n",
    "    model.add(Dropout(0.2))\n",
    "    model.add(Convolution2D(48, 5, 5, border_mode='same', activation='relu', name='c3', subsample=(2,2)))\n",
    "    model.add(Dropout(0.2))\n",
    "    model.add(Convolution2D(64, 3, 3, border_mode='same', activation='relu', name='c4'))\n",
    "    model.add(Dropout(0.2))\n",
    "    model.add(Convolution2D(64, 3, 3, border_mode='same', activation='relu', name='c5'))\n",
    "    model.add(Dropout(0.2))\n",
    "    model.add(Flatten())\n",
    "    model.add(Dense(1164, name='d1'))\n",
    "    model.add(Dense(100, name='d2'))\n",
    "    model.add(Dense(50, name='d3'))\n",
    "    model.add(Dense(10, name='d4'))\n",
    "    model.add(Dense(1, name='out'))\n",
    "\n",
    "    return model\n",
    "\n",
    "\n",
    "model = my_model()\n",
    "model.compile('adam', 'mse', ['mse'])\n",
    "history = model.fit(X_train, y_train, batch_size=32, nb_epoch=10, verbose=1, validation_split=0.2)\n",
    "y_pred = model.predict(X_train)\n",
    "\n",
    "print(model.save(\"model.mine.h5\"))\n"
   ]
  },
  {
   "cell_type": "code",
   "execution_count": null,
   "metadata": {
    "collapsed": false
   },
   "outputs": [],
   "source": []
  },
  {
   "cell_type": "code",
   "execution_count": null,
   "metadata": {
    "collapsed": true
   },
   "outputs": [],
   "source": [
    "# balancing data\n",
    "# different network model\n",
    "# regularization\n",
    "# all colour channels\n",
    "# normalization it's own layer\n",
    "\n",
    "# crop\n",
    "# extrapolate\n",
    "# visualize\n"
   ]
  },
  {
   "cell_type": "code",
   "execution_count": null,
   "metadata": {
    "collapsed": true
   },
   "outputs": [],
   "source": []
  }
 ],
 "metadata": {
  "kernelspec": {
   "display_name": "Python 3",
   "language": "python",
   "name": "python3"
  },
  "language_info": {
   "codemirror_mode": {
    "name": "ipython",
    "version": 3
   },
   "file_extension": ".py",
   "mimetype": "text/x-python",
   "name": "python",
   "nbconvert_exporter": "python",
   "pygments_lexer": "ipython3",
   "version": "3.5.2"
  },
  "widgets": {
   "state": {},
   "version": "1.1.2"
  }
 },
 "nbformat": 4,
 "nbformat_minor": 2
}
